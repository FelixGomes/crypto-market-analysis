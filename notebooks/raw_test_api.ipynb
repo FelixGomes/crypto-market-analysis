{
 "cells": [
  {
   "cell_type": "code",
   "execution_count": 4,
   "id": "f5d334b1",
   "metadata": {},
   "outputs": [],
   "source": [
    "import requests\n",
    "import pandas as pd\n",
    "import os\n",
    "from dotenv import load_dotenv"
   ]
  },
  {
   "cell_type": "code",
   "execution_count": null,
   "id": "9b86be15",
   "metadata": {},
   "outputs": [],
   "source": [
    "# Carrega variáveis do .env\n",
    "load_dotenv()\n",
    "API_KEY = os.getenv(\"COINCAP_API_KEY\")\n",
    "BASE_URL = \"https://rest.coincap.io/v3\"\n",
    "\n",
    "# Extrai os Assets \n",
    "def get_assets():\n",
    "    url = f\"{BASE_URL}/assets?apiKey={API_KEY}\"\n",
    "    response = requests.get(url)\n",
    "    if response.status_code == 200:\n",
    "        data = response.json()['data']\n",
    "        df = pd.DataFrame(data)\n",
    "        return df\n",
    "    else:\n",
    "        print(f\"Erro: {response.status_code}\")\n",
    "        print(response.text)\n",
    "        return None\n",
    "\n",
    "if __name__ == \"__main__\":\n",
    "    df_assets = get_assets()\n",
    "    if df_assets is not None:\n",
    "        print(df_assets.head())\n",
    "        # Salva em .json\n",
    "        df_assets.to_json(\"bronze_assets.json\", orient=\"records\", lines=True)\n"
   ]
  }
 ],
 "metadata": {
  "kernelspec": {
   "display_name": ".venv",
   "language": "python",
   "name": "python3"
  },
  "language_info": {
   "codemirror_mode": {
    "name": "ipython",
    "version": 3
   },
   "file_extension": ".py",
   "mimetype": "text/x-python",
   "name": "python",
   "nbconvert_exporter": "python",
   "pygments_lexer": "ipython3",
   "version": "3.11.9"
  }
 },
 "nbformat": 4,
 "nbformat_minor": 5
}
